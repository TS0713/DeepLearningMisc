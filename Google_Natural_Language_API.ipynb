{
  "nbformat": 4,
  "nbformat_minor": 0,
  "metadata": {
    "colab": {
      "provenance": [],
      "mount_file_id": "13W6rEl-aBdLtsCWAZktzHPOftLoFTaUS",
      "authorship_tag": "ABX9TyP7lZUHxkGE7wyBnwY4rFrT",
      "include_colab_link": true
    },
    "kernelspec": {
      "name": "python3",
      "display_name": "Python 3"
    },
    "language_info": {
      "name": "python"
    }
  },
  "cells": [
    {
      "cell_type": "markdown",
      "metadata": {
        "id": "view-in-github",
        "colab_type": "text"
      },
      "source": [
        "<a href=\"https://colab.research.google.com/github/TS0713/DeepLearningMisc/blob/main/Google_Natural_Language_API.ipynb\" target=\"_parent\"><img src=\"https://colab.research.google.com/assets/colab-badge.svg\" alt=\"Open In Colab\"/></a>"
      ]
    },
    {
      "cell_type": "markdown",
      "source": [
        "# Analyzing Sentiment - Using Google's Natural Language AI API"
      ],
      "metadata": {
        "id": "yaQp4IL9ctPB"
      }
    },
    {
      "cell_type": "markdown",
      "source": [
        "\n",
        "\n",
        "1.   Open Google Cloud Account\n",
        "2.   Create New Project\n",
        "3. Enable Natural Language AI - api\n",
        "4. Enable Billing for New Project\n",
        "5. Create Credentials (API)\n",
        "   - Choose and Create Service Account \n",
        "   - Open the Service Account, Add Key > Choose JSON  \n",
        "   - Use the Json file whenever we use API\n",
        "6. Enable Natural Language AI - api\n",
        "\n",
        "\n"
      ],
      "metadata": {
        "id": "xa_2QgZ3Fw-J"
      }
    },
    {
      "cell_type": "code",
      "source": [
        "!pip install --upgrade google-cloud-language"
      ],
      "metadata": {
        "id": "EXFtpUYHf0cF"
      },
      "execution_count": null,
      "outputs": []
    },
    {
      "cell_type": "code",
      "source": [
        "import json\n",
        "import os\n",
        "from google.cloud import language_v1\n",
        "os.environ[\"GOOGLE_APPLICATION_CREDENTIALS\"]=\"sentimentanalysis-379314-9c65d1116d03.json\""
      ],
      "metadata": {
        "id": "EUp67ou-Fsq3"
      },
      "execution_count": null,
      "outputs": []
    },
    {
      "cell_type": "code",
      "source": [
        "input_text = \"\"\"\n",
        "After 13 years of longing, James Cameron's Avatar: The Way of Water had my jaw on the floor the whole time, an insanely ambitious and groundbreaking movie, and a marvel of technical achievement through and through. Mixes Spielbergian wonder with gorgeous underwater visuals, a claustrophobic atmosphere, and the mesmerizing action set-pieces, which holds up really well. Just like the first one, I was really impressed with Sam Worthington Simmonds and Zoe Saldana's performances. The chemistry between them is spot on and each one gets their own time to shine. The story this time is far superior, Cameron fixes the problems the first one had. He weaves an epic cinematic experience. The emotional stakes of the whole story are higher and tenser. The characters are more refined.\n",
        "3 hours and 12 minutes of run time may be a bit hefty, but its pleasures are deep and satisfying, with rich lore and incredible world-building. It will really be hard to find a blockbuster that will match its emotionality or excitement. \n",
        "\n",
        "All in all, Avatar: The Way of Water is an undeniable technical achievement with its epic score, jaw-dropping scale & breathtaking visuals that are worthy of repeat viewings. I know the ticket rates are high but wait for a week or two but please watch it on the biggest possible screen in IMAX 3D. Its a once in a lifetime experience which you don't want to miss\n",
        "\"\"\""
      ],
      "metadata": {
        "id": "Y7e5GKhIHzh4"
      },
      "execution_count": null,
      "outputs": []
    },
    {
      "cell_type": "code",
      "source": [
        "client = language_v1.LanguageServiceClient()\n",
        "document = language_v1.Document(\n",
        "    content = input_text, type_ = language_v1.Document.Type.PLAIN_TEXT\n",
        ")"
      ],
      "metadata": {
        "id": "IEyWQ3-eIj0F"
      },
      "execution_count": null,
      "outputs": []
    },
    {
      "cell_type": "code",
      "source": [
        "get_sentiment = client.analyze_sentiment(\n",
        "    request = {\"document\" : document}\n",
        ")"
      ],
      "metadata": {
        "id": "9YZ_Nt7OIuuv"
      },
      "execution_count": null,
      "outputs": []
    },
    {
      "cell_type": "markdown",
      "source": [
        "### **Score:**\n",
        " - Ranges between -1.0 (negative) and 1.0 (positive) and corresponds to the overall emotional leaning of the text.\n",
        "\n",
        "### **Magnitude:**\n",
        " - Indicates the overall strength of emotion (both positive and negative) within the given text, between 0.0 and +inf. Unlike score, magnitude is not normalized; each expression of emotion within the text (both positive and negative) contributes to the text's magnitude (so longer text blocks may have greater magnitudes)."
      ],
      "metadata": {
        "id": "lXiTkj7eTzlv"
      }
    },
    {
      "cell_type": "code",
      "source": [
        "print ('Score:     {}\\nMagnitude: {}'.format(round(get_sentiment.document_sentiment.score,2),round(get_sentiment.document_sentiment.magnitude,2)))"
      ],
      "metadata": {
        "colab": {
          "base_uri": "https://localhost:8080/"
        },
        "id": "3lNvzovKUd-t",
        "outputId": "3dd31ed5-fa1a-4c34-d962-c97c794afde8"
      },
      "execution_count": null,
      "outputs": [
        {
          "output_type": "stream",
          "name": "stdout",
          "text": [
            "Score:     0.8\n",
            "Magnitude: 10.6\n"
          ]
        }
      ]
    },
    {
      "cell_type": "code",
      "source": [
        "get_classification = client.classify_text(\n",
        "    request = {\"document\" : document}\n",
        ")\n",
        "print (get_classification)"
      ],
      "metadata": {
        "colab": {
          "base_uri": "https://localhost:8080/"
        },
        "id": "_qWIGX9WPcuP",
        "outputId": "f30dc4f5-4931-4728-e3dd-06d1695a4722"
      },
      "execution_count": null,
      "outputs": [
        {
          "output_type": "stream",
          "name": "stdout",
          "text": [
            "categories {\n",
            "  name: \"/Arts & Entertainment\"\n",
            "  confidence: 0.8399999737739563\n",
            "}\n",
            "\n"
          ]
        }
      ]
    }
  ]
}