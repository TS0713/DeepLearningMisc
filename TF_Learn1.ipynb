{
  "nbformat": 4,
  "nbformat_minor": 0,
  "metadata": {
    "colab": {
      "name": "TF_Learn1.ipynb",
      "provenance": [],
      "collapsed_sections": [],
      "authorship_tag": "ABX9TyMSl0dI1+9Ab3uwIjo2h/Ds",
      "include_colab_link": true
    },
    "kernelspec": {
      "name": "python3",
      "display_name": "Python 3"
    },
    "language_info": {
      "name": "python"
    }
  },
  "cells": [
    {
      "cell_type": "markdown",
      "metadata": {
        "id": "view-in-github",
        "colab_type": "text"
      },
      "source": [
        "<a href=\"https://colab.research.google.com/github/TS0713/DeepLearningMisc/blob/main/TF_Learn1.ipynb\" target=\"_parent\"><img src=\"https://colab.research.google.com/assets/colab-badge.svg\" alt=\"Open In Colab\"/></a>"
      ]
    },
    {
      "cell_type": "code",
      "execution_count": null,
      "metadata": {
        "colab": {
          "base_uri": "https://localhost:8080/"
        },
        "id": "-jdTPtm_bwWf",
        "outputId": "e068bf06-0d64-4006-ebd4-bceced441be1"
      },
      "outputs": [
        {
          "output_type": "stream",
          "name": "stdout",
          "text": [
            "Mounted at /content/drive\n"
          ]
        }
      ],
      "source": [
        "from google.colab import drive\n",
        "drive.mount('/content/drive')\n",
        "data_path=\"/content/drive/MyDrive/Datasets/\""
      ]
    },
    {
      "cell_type": "code",
      "source": [
        "import os\n",
        "import pandas as pd\n",
        "import matplotlib.pyplot as plt\n",
        "import tensorflow as tf\n",
        "os.chdir(data_path)\n",
        "import glob\n",
        "import numpy as np\n",
        "import tensorflow_hub as hub\n",
        "#!pip install imbalanced-learn\n",
        "from imblearn.over_sampling import RandomOverSampler\n",
        "glob.glob(\"*\")"
      ],
      "metadata": {
        "id": "-Sp_9VhtcCLi",
        "colab": {
          "base_uri": "https://localhost:8080/"
        },
        "outputId": "4695a072-998e-4262-89b0-916eeee6abdd"
      },
      "execution_count": null,
      "outputs": [
        {
          "output_type": "execute_result",
          "data": {
            "text/plain": [
              "['wine-review.csv', 'diabetes.csv']"
            ]
          },
          "metadata": {},
          "execution_count": 54
        }
      ]
    },
    {
      "cell_type": "markdown",
      "source": [
        ""
      ],
      "metadata": {
        "id": "eiJcGZIyA43s"
      }
    },
    {
      "cell_type": "markdown",
      "source": [
        "# Feed Forward Neural Networks"
      ],
      "metadata": {
        "id": "Cda2Zv7pcZyZ"
      }
    },
    {
      "cell_type": "code",
      "source": [
        "from sklearn.model_selection import train_test_split\n",
        "from sklearn.preprocessing import StandardScaler\n",
        "df = pd.read_csv(\"diabetes.csv\")\n",
        "print (df.head())\n",
        "x = df[df.columns[:-1]].values\n",
        "y = df[df.columns[-1]].values"
      ],
      "metadata": {
        "colab": {
          "base_uri": "https://localhost:8080/"
        },
        "id": "9dFs0bA0Eq1q",
        "outputId": "ee59a319-7c54-46d9-a2d2-2643baa61c4d"
      },
      "execution_count": null,
      "outputs": [
        {
          "output_type": "stream",
          "name": "stdout",
          "text": [
            "   Pregnancies  Glucose  BloodPressure  SkinThickness  Insulin   BMI  \\\n",
            "0            6      148             72             35        0  33.6   \n",
            "1            1       85             66             29        0  26.6   \n",
            "2            8      183             64              0        0  23.3   \n",
            "3            1       89             66             23       94  28.1   \n",
            "4            0      137             40             35      168  43.1   \n",
            "\n",
            "   DiabetesPedigreeFunction  Age  Outcome  \n",
            "0                     0.627   50        1  \n",
            "1                     0.351   31        0  \n",
            "2                     0.672   32        1  \n",
            "3                     0.167   21        0  \n",
            "4                     2.288   33        1  \n"
          ]
        }
      ]
    },
    {
      "cell_type": "code",
      "source": [
        "scaler = StandardScaler()\n",
        "x = scaler.fit_transform(x)\n",
        "data = np.hstack((x,np.reshape(y,(-1,1))))\n",
        "transformed_data = pd.DataFrame(data,columns=df.columns)\n",
        "transformed_data.Outcome.value_counts()"
      ],
      "metadata": {
        "colab": {
          "base_uri": "https://localhost:8080/"
        },
        "id": "PmuV7FkaIrK4",
        "outputId": "fe80df54-9c82-4bbb-c653-128eb3cf3ff8"
      },
      "execution_count": null,
      "outputs": [
        {
          "output_type": "execute_result",
          "data": {
            "text/plain": [
              "0.0    500\n",
              "1.0    268\n",
              "Name: Outcome, dtype: int64"
            ]
          },
          "metadata": {},
          "execution_count": 5
        }
      ]
    },
    {
      "cell_type": "code",
      "source": [
        "over = RandomOverSampler()\n",
        "x,y = over.fit_resample(x,y)\n",
        "data = np.hstack((x,np.reshape(y,(-1,1))))\n",
        "transformed_data = pd.DataFrame(data,columns=df.columns)\n",
        "transformed_data.Outcome.value_counts()"
      ],
      "metadata": {
        "colab": {
          "base_uri": "https://localhost:8080/"
        },
        "id": "sIdpGbVjKP4Q",
        "outputId": "1eb81494-125a-40cf-e092-ec0b9caf0ba4"
      },
      "execution_count": null,
      "outputs": [
        {
          "output_type": "execute_result",
          "data": {
            "text/plain": [
              "1.0    500\n",
              "0.0    500\n",
              "Name: Outcome, dtype: int64"
            ]
          },
          "metadata": {},
          "execution_count": 35
        }
      ]
    },
    {
      "cell_type": "code",
      "source": [
        "x_train,x_temp,y_train,y_temp = train_test_split(x,y,test_size=0.4,random_state=0)\n",
        "x_valid,x_test,y_valid,y_test = train_test_split(x_temp,y_temp,test_size=0.5,random_state=0)"
      ],
      "metadata": {
        "id": "Ktu_J_xtFg90"
      },
      "execution_count": null,
      "outputs": []
    },
    {
      "cell_type": "code",
      "source": [
        "model = tf.keras.Sequential([\n",
        "                             tf.keras.layers.Dense(16,activation=\"relu\"),\n",
        "                             tf.keras.layers.Dense(16,activation=\"relu\"),\n",
        "                             tf.keras.layers.Dense(1,activation=\"sigmoid\")\n",
        "])\n"
      ],
      "metadata": {
        "id": "r83Ho3HKGILz"
      },
      "execution_count": null,
      "outputs": []
    },
    {
      "cell_type": "code",
      "source": [
        "model.compile(optimizer=tf.keras.optimizers.Adam(learning_rate=0.01),\n",
        "              loss=tf.keras.losses.BinaryCrossentropy(),\n",
        "              metrics=[\"accuracy\"]\n",
        "              )"
      ],
      "metadata": {
        "id": "97e-eehSHQ0N"
      },
      "execution_count": null,
      "outputs": []
    },
    {
      "cell_type": "code",
      "source": [
        "model.evaluate(x_train,y_train)"
      ],
      "metadata": {
        "colab": {
          "base_uri": "https://localhost:8080/"
        },
        "id": "hkoSWcF5HuBk",
        "outputId": "896e21b6-ddbc-4bdf-acc1-48774c7bab40"
      },
      "execution_count": null,
      "outputs": [
        {
          "output_type": "stream",
          "name": "stdout",
          "text": [
            "19/19 [==============================] - 0s 1ms/step - loss: 0.7122 - accuracy: 0.4800\n"
          ]
        },
        {
          "output_type": "execute_result",
          "data": {
            "text/plain": [
              "[0.7121738195419312, 0.47999998927116394]"
            ]
          },
          "metadata": {},
          "execution_count": 39
        }
      ]
    },
    {
      "cell_type": "code",
      "source": [
        "model.evaluate(x_valid,y_valid)"
      ],
      "metadata": {
        "colab": {
          "base_uri": "https://localhost:8080/"
        },
        "id": "aX1CfecgH7pu",
        "outputId": "112d958c-ed76-4e44-b90e-6350cdd932f6"
      },
      "execution_count": null,
      "outputs": [
        {
          "output_type": "stream",
          "name": "stdout",
          "text": [
            "7/7 [==============================] - 0s 2ms/step - loss: 0.7008 - accuracy: 0.4950\n"
          ]
        },
        {
          "output_type": "execute_result",
          "data": {
            "text/plain": [
              "[0.7008239030838013, 0.4950000047683716]"
            ]
          },
          "metadata": {},
          "execution_count": 40
        }
      ]
    },
    {
      "cell_type": "code",
      "source": [
        "model.fit(x_train,y_train,epochs=20,batch_size=16,validation_data=(x_valid,y_valid))"
      ],
      "metadata": {
        "colab": {
          "base_uri": "https://localhost:8080/"
        },
        "id": "DrmoF7bqH-V9",
        "outputId": "50f44330-981f-4001-d198-232b948d8fbd"
      },
      "execution_count": null,
      "outputs": [
        {
          "output_type": "stream",
          "name": "stdout",
          "text": [
            "Epoch 1/20\n",
            "38/38 [==============================] - 1s 4ms/step - loss: 0.6190 - accuracy: 0.6767 - val_loss: 0.5597 - val_accuracy: 0.6700\n",
            "Epoch 2/20\n",
            "38/38 [==============================] - 0s 3ms/step - loss: 0.5248 - accuracy: 0.7417 - val_loss: 0.5431 - val_accuracy: 0.7200\n",
            "Epoch 3/20\n",
            "38/38 [==============================] - 0s 3ms/step - loss: 0.5186 - accuracy: 0.7617 - val_loss: 0.5228 - val_accuracy: 0.7300\n",
            "Epoch 4/20\n",
            "38/38 [==============================] - 0s 3ms/step - loss: 0.4829 - accuracy: 0.7567 - val_loss: 0.5170 - val_accuracy: 0.7450\n",
            "Epoch 5/20\n",
            "38/38 [==============================] - 0s 3ms/step - loss: 0.4764 - accuracy: 0.7767 - val_loss: 0.4949 - val_accuracy: 0.7600\n",
            "Epoch 6/20\n",
            "38/38 [==============================] - 0s 3ms/step - loss: 0.4605 - accuracy: 0.7900 - val_loss: 0.5120 - val_accuracy: 0.7350\n",
            "Epoch 7/20\n",
            "38/38 [==============================] - 0s 3ms/step - loss: 0.4474 - accuracy: 0.8033 - val_loss: 0.5201 - val_accuracy: 0.7600\n",
            "Epoch 8/20\n",
            "38/38 [==============================] - 0s 3ms/step - loss: 0.4541 - accuracy: 0.7967 - val_loss: 0.5199 - val_accuracy: 0.7550\n",
            "Epoch 9/20\n",
            "38/38 [==============================] - 0s 3ms/step - loss: 0.4366 - accuracy: 0.8067 - val_loss: 0.5222 - val_accuracy: 0.7450\n",
            "Epoch 10/20\n",
            "38/38 [==============================] - 0s 3ms/step - loss: 0.4422 - accuracy: 0.7967 - val_loss: 0.5102 - val_accuracy: 0.7650\n",
            "Epoch 11/20\n",
            "38/38 [==============================] - 0s 3ms/step - loss: 0.4283 - accuracy: 0.8033 - val_loss: 0.5339 - val_accuracy: 0.7800\n",
            "Epoch 12/20\n",
            "38/38 [==============================] - 0s 4ms/step - loss: 0.4144 - accuracy: 0.8133 - val_loss: 0.5099 - val_accuracy: 0.7600\n",
            "Epoch 13/20\n",
            "38/38 [==============================] - 0s 3ms/step - loss: 0.4284 - accuracy: 0.8050 - val_loss: 0.5294 - val_accuracy: 0.7550\n",
            "Epoch 14/20\n",
            "38/38 [==============================] - 0s 3ms/step - loss: 0.4091 - accuracy: 0.8233 - val_loss: 0.4951 - val_accuracy: 0.7700\n",
            "Epoch 15/20\n",
            "38/38 [==============================] - 0s 3ms/step - loss: 0.4100 - accuracy: 0.8033 - val_loss: 0.5388 - val_accuracy: 0.7350\n",
            "Epoch 16/20\n",
            "38/38 [==============================] - 0s 3ms/step - loss: 0.3952 - accuracy: 0.8267 - val_loss: 0.5820 - val_accuracy: 0.7550\n",
            "Epoch 17/20\n",
            "38/38 [==============================] - 0s 3ms/step - loss: 0.3995 - accuracy: 0.8183 - val_loss: 0.5123 - val_accuracy: 0.7500\n",
            "Epoch 18/20\n",
            "38/38 [==============================] - 0s 3ms/step - loss: 0.3851 - accuracy: 0.8333 - val_loss: 0.5798 - val_accuracy: 0.7350\n",
            "Epoch 19/20\n",
            "38/38 [==============================] - 0s 2ms/step - loss: 0.3744 - accuracy: 0.8400 - val_loss: 0.5391 - val_accuracy: 0.7550\n",
            "Epoch 20/20\n",
            "38/38 [==============================] - 0s 2ms/step - loss: 0.3613 - accuracy: 0.8350 - val_loss: 0.6234 - val_accuracy: 0.7550\n"
          ]
        },
        {
          "output_type": "execute_result",
          "data": {
            "text/plain": [
              "<keras.callbacks.History at 0x7f3ee10486d0>"
            ]
          },
          "metadata": {},
          "execution_count": 41
        }
      ]
    },
    {
      "cell_type": "code",
      "source": [
        "model.evaluate(x_valid,y_valid)\n",
        "model.evaluate(x_test,y_test)"
      ],
      "metadata": {
        "colab": {
          "base_uri": "https://localhost:8080/"
        },
        "id": "20m7GH_wIM9E",
        "outputId": "64482189-1082-474d-d250-56d3fa2a2c6b"
      },
      "execution_count": null,
      "outputs": [
        {
          "output_type": "stream",
          "name": "stdout",
          "text": [
            "7/7 [==============================] - 0s 3ms/step - loss: 0.6234 - accuracy: 0.7550\n",
            "7/7 [==============================] - 0s 3ms/step - loss: 0.5419 - accuracy: 0.7950\n"
          ]
        },
        {
          "output_type": "execute_result",
          "data": {
            "text/plain": [
              "[0.541871190071106, 0.7950000166893005]"
            ]
          },
          "metadata": {},
          "execution_count": 42
        }
      ]
    },
    {
      "cell_type": "markdown",
      "source": [
        "# Reccurrent Neural Networks (LSTM / GRU)"
      ],
      "metadata": {
        "id": "3r5s0wXnNEf_"
      }
    },
    {
      "cell_type": "code",
      "source": [
        "df = pd.read_csv(\"wine-review.csv\",usecols=[\"country\",\"description\",\"points\",\"price\",\"variety\",\"winery\"])\n",
        "df.head()\n",
        "df = df.dropna(subset=[\"description\",\"points\"])\n",
        "df[\"label\"] = (df.points>=90).astype(\"int\")\n",
        "print (df.head())\n",
        "df = df[[\"description\",\"label\"]]"
      ],
      "metadata": {
        "colab": {
          "base_uri": "https://localhost:8080/"
        },
        "id": "2UWoYaZ2NMIn",
        "outputId": "893952f1-7268-472a-fdb1-a8fb1085c9fc"
      },
      "execution_count": null,
      "outputs": [
        {
          "output_type": "stream",
          "name": "stdout",
          "text": [
            "    country                                        description  points  price  \\\n",
            "0     Italy  Aromas include tropical fruit, broom, brimston...      87    NaN   \n",
            "1  Portugal  This is ripe and fruity, a wine that is smooth...      87   15.0   \n",
            "2        US  Tart and snappy, the flavors of lime flesh and...      87   14.0   \n",
            "3        US  Pineapple rind, lemon pith and orange blossom ...      87   13.0   \n",
            "4        US  Much like the regular bottling from 2012, this...      87   65.0   \n",
            "\n",
            "          variety               winery  label  \n",
            "0     White Blend              Nicosia      0  \n",
            "1  Portuguese Red  Quinta dos Avidagos      0  \n",
            "2      Pinot Gris            Rainstorm      0  \n",
            "3        Riesling           St. Julian      0  \n",
            "4      Pinot Noir         Sweet Cheeks      0  \n"
          ]
        }
      ]
    },
    {
      "cell_type": "code",
      "source": [
        "#train,valid,test = np.split(df.sample(frac=1),[int(0.8*len(df)),int(0.9*len(df))])\n",
        "train,temp = train_test_split(df,test_size=0.2,random_state=0)\n",
        "test,valid = train_test_split(temp,test_size=0.5,random_state=0)\n",
        "len(train),len(test),len(valid)"
      ],
      "metadata": {
        "colab": {
          "base_uri": "https://localhost:8080/"
        },
        "id": "wshcaVLkNOt2",
        "outputId": "8567187a-64f2-4a86-8d2f-01109f2a9ace"
      },
      "execution_count": null,
      "outputs": [
        {
          "output_type": "execute_result",
          "data": {
            "text/plain": [
              "(103976, 12997, 12998)"
            ]
          },
          "metadata": {},
          "execution_count": 24
        }
      ]
    },
    {
      "cell_type": "code",
      "source": [
        "# tf.data.Dataset Object then shuffles and batches the data\n",
        "def df_to_dataset(dataframe,shuffle=True,batch_size=1024):\n",
        "  df = dataframe.copy()\n",
        "  labels = df.pop(\"label\")\n",
        "  df = df[\"description\"]\n",
        "  ds = tf.data.Dataset.from_tensor_slices((df,labels))\n",
        "  if shuffle:\n",
        "    ds = ds.shuffle(buffer_size=len(dataframe))\n",
        "  ds = ds.batch(batch_size)\n",
        "  ds = ds.prefetch(tf.data.AUTOTUNE)\n",
        "  return ds\n",
        "\n"
      ],
      "metadata": {
        "id": "EQN88RBeS1oM"
      },
      "execution_count": null,
      "outputs": []
    },
    {
      "cell_type": "code",
      "source": [
        "train_data = df_to_dataset(train)\n",
        "valid_data = df_to_dataset(valid)\n",
        "test_data = df_to_dataset(test)"
      ],
      "metadata": {
        "id": "LqD-I5GES5oU"
      },
      "execution_count": null,
      "outputs": []
    },
    {
      "cell_type": "code",
      "source": [
        "embedding = \"https://tfhub.dev/google/nnlm-en-dim50/2\"\n",
        "hub_layer = hub.KerasLayer(embedding,dtype=tf.string,trainable=True)"
      ],
      "metadata": {
        "id": "hgTb-JG32Gx0"
      },
      "execution_count": null,
      "outputs": []
    },
    {
      "cell_type": "code",
      "source": [
        "hub_layer(list(train_data)[0][0])"
      ],
      "metadata": {
        "colab": {
          "base_uri": "https://localhost:8080/"
        },
        "id": "0qayTGBtPQaA",
        "outputId": "09425cb5-f594-428f-8ed1-2ad1a5a99a22"
      },
      "execution_count": null,
      "outputs": [
        {
          "output_type": "execute_result",
          "data": {
            "text/plain": [
              "<tf.Tensor: shape=(1024, 50), dtype=float32, numpy=\n",
              "array([[ 0.33074427,  0.11516416,  0.15643081, ..., -0.0158305 ,\n",
              "        -0.17785321, -0.03116382],\n",
              "       [ 0.3921425 , -0.14079694, -0.12702002, ..., -0.19536878,\n",
              "        -0.14964801, -0.33144736],\n",
              "       [ 0.2837611 , -0.14095743,  0.1281445 , ...,  0.09290203,\n",
              "        -0.24575616,  0.01007759],\n",
              "       ...,\n",
              "       [ 0.47768414,  0.0039114 ,  0.16395175, ..., -0.0788702 ,\n",
              "        -0.00497365,  0.21156566],\n",
              "       [ 0.24496916, -0.15456437, -0.04581652, ..., -0.08388113,\n",
              "         0.13326702,  0.181742  ],\n",
              "       [ 0.2813262 ,  0.12059779, -0.24460077, ..., -0.3466413 ,\n",
              "        -0.417991  ,  0.01961769]], dtype=float32)>"
            ]
          },
          "metadata": {},
          "execution_count": 56
        }
      ]
    },
    {
      "cell_type": "code",
      "source": [
        "model = tf.keras.Sequential()\n",
        "model.add(hub_layer)\n",
        "model.add(tf.keras.layers.Dense(16,activation=\"relu\"))\n",
        "model.add(tf.keras.layers.Dropout(0.4))\n",
        "model.add(tf.keras.layers.Dense(16,activation=\"relu\"))\n",
        "model.add(tf.keras.layers.Dropout(0.4))\n",
        "model.add(tf.keras.layers.Dense(1,activation=\"sigmoid\"))"
      ],
      "metadata": {
        "id": "awBvevRTPm4s"
      },
      "execution_count": null,
      "outputs": []
    },
    {
      "cell_type": "code",
      "source": [
        "model.compile(optimizer=tf.keras.optimizers.Adam(learning_rate=0.01),\n",
        "              loss=tf.keras.losses.BinaryCrossentropy(),\n",
        "              metrics=[\"accuracy\"]\n",
        "              )"
      ],
      "metadata": {
        "id": "JYU8H-RyRv7x"
      },
      "execution_count": null,
      "outputs": []
    },
    {
      "cell_type": "code",
      "source": [
        "model.evaluate(train_data)"
      ],
      "metadata": {
        "colab": {
          "base_uri": "https://localhost:8080/"
        },
        "id": "D-_cJH7dR5qu",
        "outputId": "f1b0f530-c7f7-4664-ada8-839b5a3e3f1c"
      },
      "execution_count": null,
      "outputs": [
        {
          "output_type": "stream",
          "name": "stdout",
          "text": [
            "102/102 [==============================] - 3s 16ms/step - loss: 0.6964 - accuracy: 0.4722\n"
          ]
        },
        {
          "output_type": "execute_result",
          "data": {
            "text/plain": [
              "[0.6963731646537781, 0.47223398089408875]"
            ]
          },
          "metadata": {},
          "execution_count": 60
        }
      ]
    },
    {
      "cell_type": "code",
      "source": [
        "model.evaluate(valid_data)"
      ],
      "metadata": {
        "colab": {
          "base_uri": "https://localhost:8080/"
        },
        "id": "Kd1k9rssR9Kj",
        "outputId": "2b913b2d-7f5e-4abd-ceef-54ffa6d37bb1"
      },
      "execution_count": null,
      "outputs": [
        {
          "output_type": "stream",
          "name": "stdout",
          "text": [
            "13/13 [==============================] - 0s 18ms/step - loss: 0.6967 - accuracy: 0.4680\n"
          ]
        },
        {
          "output_type": "execute_result",
          "data": {
            "text/plain": [
              "[0.6966590285301208, 0.4679950773715973]"
            ]
          },
          "metadata": {},
          "execution_count": 61
        }
      ]
    },
    {
      "cell_type": "code",
      "source": [
        "history = model.fit(train_data,validation_data = valid_data,epochs=4)"
      ],
      "metadata": {
        "colab": {
          "base_uri": "https://localhost:8080/"
        },
        "id": "Hpaev67JR_eY",
        "outputId": "7ed45f92-d415-4683-a8ec-cce33e71327c"
      },
      "execution_count": null,
      "outputs": [
        {
          "output_type": "stream",
          "name": "stdout",
          "text": [
            "Epoch 1/4\n",
            "102/102 [==============================] - 59s 574ms/step - loss: 0.3096 - accuracy: 0.8621 - val_loss: 0.3653 - val_accuracy: 0.8340\n",
            "Epoch 2/4\n",
            "102/102 [==============================] - 56s 545ms/step - loss: 0.2530 - accuracy: 0.8909 - val_loss: 0.3919 - val_accuracy: 0.8357\n",
            "Epoch 3/4\n",
            "102/102 [==============================] - 64s 626ms/step - loss: 0.1940 - accuracy: 0.9190 - val_loss: 0.4411 - val_accuracy: 0.8278\n",
            "Epoch 4/4\n",
            "102/102 [==============================] - 56s 547ms/step - loss: 0.1436 - accuracy: 0.9432 - val_loss: 0.5225 - val_accuracy: 0.8259\n"
          ]
        }
      ]
    },
    {
      "cell_type": "code",
      "source": [
        "model.evaluate(test_data)"
      ],
      "metadata": {
        "colab": {
          "base_uri": "https://localhost:8080/"
        },
        "id": "B5---0weSGqK",
        "outputId": "07807972-c4f2-4be7-bc58-b81863ea1cc1"
      },
      "execution_count": null,
      "outputs": [
        {
          "output_type": "stream",
          "name": "stdout",
          "text": [
            "13/13 [==============================] - 2s 141ms/step - loss: 0.5269 - accuracy: 0.8268\n"
          ]
        },
        {
          "output_type": "execute_result",
          "data": {
            "text/plain": [
              "[0.5269176959991455, 0.8268061876296997]"
            ]
          },
          "metadata": {},
          "execution_count": 64
        }
      ]
    },
    {
      "cell_type": "code",
      "source": [
        "plt.plot(history.history[\"accuracy\"],label=\"Training Accuracy\")\n",
        "plt.plot(history.history[\"val_accuracy\"],label=\"Validation Accuracy\")\n",
        "plt.ylabel(\"accuracy\")\n",
        "plt.xlabel(\"epochs\")\n",
        "plt.title(\"Accuracy of Model\")\n",
        "plt.legend()\n",
        "plt.show()"
      ],
      "metadata": {
        "colab": {
          "base_uri": "https://localhost:8080/",
          "height": 295
        },
        "id": "EhOJvG-xUcqq",
        "outputId": "997cc52f-4ba1-4dde-c286-63e663c67151"
      },
      "execution_count": null,
      "outputs": [
        {
          "output_type": "display_data",
          "data": {
            "text/plain": [
              "<Figure size 432x288 with 1 Axes>"
            ],
            "image/png": "[encoded data removed]"
          },
          "metadata": {
            "needs_background": "light"
          }
        }
      ]
    },
    {
      "cell_type": "code",
      "source": [
        "plt.plot(history.history[\"loss\"],label=\"Training Loss\")\n",
        "plt.plot(history.history[\"val_loss\"],label=\"Validation Loss\")\n",
        "plt.ylabel(\"Loss\")\n",
        "plt.xlabel(\"epochs\")\n",
        "plt.title(\"Loss of Model\")\n",
        "plt.legend()\n",
        "plt.show()"
      ],
      "metadata": {
        "colab": {
          "base_uri": "https://localhost:8080/",
          "height": 295
        },
        "id": "1olGmlZzUnSP",
        "outputId": "fa8ad438-c738-4716-c490-ec7bfb8fc028"
      },
      "execution_count": null,
      "outputs": [
        {
          "output_type": "display_data",
          "data": {
            "text/plain": [
              "<Figure size 432x288 with 1 Axes>"
            ],
            "image/png": "[encoded data removed]"
          },
          "metadata": {
            "needs_background": "light"
          }
        }
      ]
    },
    {
      "cell_type": "markdown",
      "source": [
        "# LSTM Model "
      ],
      "metadata": {
        "id": "nO-bKKzXWjSO"
      }
    },
    {
      "cell_type": "code",
      "source": [
        "encoder = tf.keras.layers.TextVectorization(max_tokens=2000)\n",
        "encoder.adapt(train_data.map(lambda text, label: text))\n"
      ],
      "metadata": {
        "id": "V8T5-_ukWmEb"
      },
      "execution_count": null,
      "outputs": []
    },
    {
      "cell_type": "code",
      "source": [
        "vocab = np.array(encoder.get_vocabulary())\n",
        "vocab[:20]\n",
        "len(encoder.get_vocabulary())\n"
      ],
      "metadata": {
        "colab": {
          "base_uri": "https://localhost:8080/"
        },
        "id": "-Hr5boGvW2VG",
        "outputId": "f0090268-55ec-4219-94b8-01fe7934069b"
      },
      "execution_count": null,
      "outputs": [
        {
          "output_type": "execute_result",
          "data": {
            "text/plain": [
              "2000"
            ]
          },
          "metadata": {},
          "execution_count": 75
        }
      ]
    },
    {
      "cell_type": "code",
      "source": [
        "model = tf.keras.Sequential([\n",
        "                             encoder,\n",
        "                             tf.keras.layers.Embedding(\n",
        "                                 input_dim = len(encoder.get_vocabulary()),\n",
        "                                 output_dim = 32,\n",
        "                                 mask_zero=True\n",
        "                             ),\n",
        "                             tf.keras.layers.LSTM(32),\n",
        "                             tf.keras.layers.Dense(32,activation=\"relu\"),\n",
        "                             tf.keras.layers.Dropout(0.4),\n",
        "                             tf.keras.layers.Dense(1,activation=\"sigmoid\")\n",
        "\n",
        "\n",
        "])"
      ],
      "metadata": {
        "id": "sEAGcJzDW_XG"
      },
      "execution_count": null,
      "outputs": []
    },
    {
      "cell_type": "code",
      "source": [
        "model.compile(optimizer=tf.keras.optimizers.Adam(learning_rate=0.01),\n",
        "              loss=tf.keras.losses.BinaryCrossentropy(),\n",
        "              metrics=[\"accuracy\"]\n",
        "              )"
      ],
      "metadata": {
        "id": "lkQz6zfIZOR8"
      },
      "execution_count": null,
      "outputs": []
    },
    {
      "cell_type": "code",
      "source": [
        "model.evaluate(train_data)"
      ],
      "metadata": {
        "colab": {
          "base_uri": "https://localhost:8080/"
        },
        "id": "ef7ZoUSBZSs5",
        "outputId": "046d55e8-edda-4c37-f02e-63eceae830ae"
      },
      "execution_count": null,
      "outputs": [
        {
          "output_type": "stream",
          "name": "stdout",
          "text": [
            "102/102 [==============================] - 35s 296ms/step - loss: 0.6943 - accuracy: 0.4000\n"
          ]
        },
        {
          "output_type": "execute_result",
          "data": {
            "text/plain": [
              "[0.6943466067314148, 0.39998653531074524]"
            ]
          },
          "metadata": {},
          "execution_count": 78
        }
      ]
    },
    {
      "cell_type": "code",
      "source": [
        "model.evaluate(valid_data)"
      ],
      "metadata": {
        "colab": {
          "base_uri": "https://localhost:8080/"
        },
        "id": "0rzPTIsvZXaY",
        "outputId": "cb28a498-3c35-43cb-f265-0f5bc470198d"
      },
      "execution_count": null,
      "outputs": [
        {
          "output_type": "stream",
          "name": "stdout",
          "text": [
            "13/13 [==============================] - 4s 318ms/step - loss: 0.6944 - accuracy: 0.3912\n"
          ]
        },
        {
          "output_type": "execute_result",
          "data": {
            "text/plain": [
              "[0.6944301724433899, 0.3912140429019928]"
            ]
          },
          "metadata": {},
          "execution_count": 79
        }
      ]
    },
    {
      "cell_type": "code",
      "source": [
        "history = model.fit(train_data,epochs=4,validation_data=valid_data)"
      ],
      "metadata": {
        "colab": {
          "base_uri": "https://localhost:8080/"
        },
        "id": "6aPwyxdsZiD4",
        "outputId": "cfbbac1f-d98d-4f8a-8b4e-09aa224c1df5"
      },
      "execution_count": null,
      "outputs": [
        {
          "output_type": "stream",
          "name": "stdout",
          "text": [
            "Epoch 1/4\n",
            "102/102 [==============================] - 100s 904ms/step - loss: 0.4602 - accuracy: 0.7789 - val_loss: 0.3729 - val_accuracy: 0.8293\n",
            "Epoch 2/4\n",
            "102/102 [==============================] - 51s 494ms/step - loss: 0.3629 - accuracy: 0.8372 - val_loss: 0.3676 - val_accuracy: 0.8227\n",
            "Epoch 3/4\n",
            "102/102 [==============================] - 51s 494ms/step - loss: 0.3426 - accuracy: 0.8448 - val_loss: 0.3635 - val_accuracy: 0.8285\n",
            "Epoch 4/4\n",
            "102/102 [==============================] - 52s 506ms/step - loss: 0.3265 - accuracy: 0.8525 - val_loss: 0.3626 - val_accuracy: 0.8353\n"
          ]
        }
      ]
    },
    {
      "cell_type": "code",
      "source": [
        "plt.plot(history.history[\"accuracy\"],label=\"Training Accuracy\")\n",
        "plt.plot(history.history[\"val_accuracy\"],label=\"Validation Accuracy\")\n",
        "plt.ylabel(\"accuracy\")\n",
        "plt.xlabel(\"epochs\")\n",
        "plt.title(\"Accuracy of Model\")\n",
        "plt.legend()\n",
        "plt.show()"
      ],
      "metadata": {
        "colab": {
          "base_uri": "https://localhost:8080/"
        },
        "id": "zsiJnv9BZoXY",
        "outputId": "c8aceacb-3fca-4b5d-b7b2-fd23a42c5fd4"
      },
      "execution_count": null,
      "outputs": [
        {
          "output_type": "display_data",
          "data": {
            "text/plain": [
              "<Figure size 432x288 with 1 Axes>"
            ],
            "image/png": "[encoded data removed]"
          },
          "metadata": {
            "needs_background": "light"
          }
        }
      ]
    },
    {
      "cell_type": "code",
      "source": [
        "plt.plot(history.history[\"loss\"],label=\"Training Loss\")\n",
        "plt.plot(history.history[\"val_loss\"],label=\"Validation Loss\")\n",
        "plt.ylabel(\"Loss\")\n",
        "plt.xlabel(\"epochs\")\n",
        "plt.title(\"Loss of Model\")\n",
        "plt.legend()\n",
        "plt.show()"
      ],
      "metadata": {
        "colab": {
          "base_uri": "https://localhost:8080/"
        },
        "id": "FpbLffrpZq-g",
        "outputId": "9c46ac5b-3221-4117-a833-d4999ae1770a"
      },
      "execution_count": null,
      "outputs": [
        {
          "output_type": "display_data",
          "data": {
            "text/plain": [
              "<Figure size 432x288 with 1 Axes>"
            ],
            "image/png": "[encoded data removed]"
          },
          "metadata": {
            "needs_background": "light"
          }
        }
      ]
    },
    {
      "cell_type": "code",
      "source": [
        "model.evaluate(test_data)"
      ],
      "metadata": {
        "colab": {
          "base_uri": "https://localhost:8080/"
        },
        "id": "NMk7leSLZsuX",
        "outputId": "52054bb7-6e05-4a1f-86cd-913d58c95ed7"
      },
      "execution_count": null,
      "outputs": [
        {
          "output_type": "stream",
          "name": "stdout",
          "text": [
            "13/13 [==============================] - 2s 190ms/step - loss: 0.3650 - accuracy: 0.8337\n"
          ]
        },
        {
          "output_type": "execute_result",
          "data": {
            "text/plain": [
              "[0.3649904131889343, 0.8337308764457703]"
            ]
          },
          "metadata": {},
          "execution_count": 83
        }
      ]
    },
    {
      "cell_type": "code",
      "source": [
        ""
      ],
      "metadata": {
        "id": "gCl2e_QZZvad"
      },
      "execution_count": null,
      "outputs": []
    }
  ]
}